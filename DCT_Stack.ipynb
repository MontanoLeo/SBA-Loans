{
 "cells": [
  {
   "cell_type": "markdown",
   "id": "62834763",
   "metadata": {},
   "source": [
    "H2O GBM tuning guide:  \n",
    "https://github.com/h2oai/h2o-3/blob/master/h2o-docs/src/product/tutorials/gbm/gbmTuning.ipynb"
   ]
  },
  {
   "cell_type": "markdown",
   "id": "a0c9b618",
   "metadata": {},
   "source": [
    "## Preparation\n",
    "\n",
    "Use dataset provided in the eLearning"
   ]
  },
  {
   "cell_type": "code",
   "execution_count": 1,
   "id": "3ca7e035",
   "metadata": {},
   "outputs": [
    {
     "data": {
      "text/html": [
       "<style>.container { width:80% !important; }</style>"
      ],
      "text/plain": [
       "<IPython.core.display.HTML object>"
      ]
     },
     "metadata": {},
     "output_type": "display_data"
    }
   ],
   "source": [
    "import pandas as pd\n",
    "pd.set_option('display.max_columns', 1500)\n",
    "\n",
    "import warnings\n",
    "warnings.filterwarnings('ignore')\n",
    "\n",
    "#Extend cell width\n",
    "from IPython.core.display import display, HTML\n",
    "display(HTML(\"<style>.container { width:80% !important; }</style>\"))"
   ]
  },
  {
   "cell_type": "code",
   "execution_count": 2,
   "id": "b1b29368",
   "metadata": {},
   "outputs": [],
   "source": [
    "#Run once\n",
    "#!pip install category_encoders\n",
    "from category_encoders.target_encoder import TargetEncoder"
   ]
  },
  {
   "cell_type": "markdown",
   "id": "cee2c254",
   "metadata": {},
   "source": [
    "### Load data"
   ]
  },
  {
   "cell_type": "code",
   "execution_count": 3,
   "id": "a19bd163",
   "metadata": {},
   "outputs": [],
   "source": [
    "X_train = pd.read_csv('C:/Users/monta/OneDrive/Desktop/BUAN_AML/Module 5/SBA_loans_train.csv')\n",
    "X_test  = pd.read_csv('C:/Users/monta/OneDrive/Desktop/BUAN_AML/Module 5/SBA_loans_test.csv')"
   ]
  },
  {
   "cell_type": "code",
   "execution_count": 4,
   "id": "052d0c31",
   "metadata": {},
   "outputs": [
    {
     "data": {
      "text/html": [
       "<div>\n",
       "<style scoped>\n",
       "    .dataframe tbody tr th:only-of-type {\n",
       "        vertical-align: middle;\n",
       "    }\n",
       "\n",
       "    .dataframe tbody tr th {\n",
       "        vertical-align: top;\n",
       "    }\n",
       "\n",
       "    .dataframe thead th {\n",
       "        text-align: right;\n",
       "    }\n",
       "</style>\n",
       "<table border=\"1\" class=\"dataframe\">\n",
       "  <thead>\n",
       "    <tr style=\"text-align: right;\">\n",
       "      <th></th>\n",
       "      <th>City</th>\n",
       "      <th>State</th>\n",
       "      <th>Zip</th>\n",
       "      <th>Bank</th>\n",
       "      <th>BankState</th>\n",
       "      <th>NAICS</th>\n",
       "      <th>Term</th>\n",
       "      <th>NoEmp</th>\n",
       "      <th>NewExist</th>\n",
       "      <th>CreateJob</th>\n",
       "      <th>RetainedJob</th>\n",
       "      <th>FranchiseCode</th>\n",
       "      <th>UrbanRural</th>\n",
       "      <th>RevLineCr</th>\n",
       "      <th>LowDoc</th>\n",
       "      <th>DisbursementGross</th>\n",
       "      <th>BalanceGross</th>\n",
       "      <th>GrAppv</th>\n",
       "      <th>SBA_Appv</th>\n",
       "      <th>Defaulted</th>\n",
       "    </tr>\n",
       "  </thead>\n",
       "  <tbody>\n",
       "    <tr>\n",
       "      <th>0</th>\n",
       "      <td>Huntsville</td>\n",
       "      <td>AL</td>\n",
       "      <td>35811</td>\n",
       "      <td>BUSINESS LOAN CENTER, LLC</td>\n",
       "      <td>FL</td>\n",
       "      <td>621310</td>\n",
       "      <td>73</td>\n",
       "      <td>1</td>\n",
       "      <td>2.0</td>\n",
       "      <td>2</td>\n",
       "      <td>1</td>\n",
       "      <td>0</td>\n",
       "      <td>1</td>\n",
       "      <td>N</td>\n",
       "      <td>N</td>\n",
       "      <td>25000.0</td>\n",
       "      <td>0.0</td>\n",
       "      <td>25000.0</td>\n",
       "      <td>21250.0</td>\n",
       "      <td>1</td>\n",
       "    </tr>\n",
       "    <tr>\n",
       "      <th>1</th>\n",
       "      <td>SCOTTSDALE</td>\n",
       "      <td>AZ</td>\n",
       "      <td>85254</td>\n",
       "      <td>WELLS FARGO BANK NATL ASSOC</td>\n",
       "      <td>CA</td>\n",
       "      <td>0</td>\n",
       "      <td>84</td>\n",
       "      <td>3</td>\n",
       "      <td>2.0</td>\n",
       "      <td>0</td>\n",
       "      <td>0</td>\n",
       "      <td>0</td>\n",
       "      <td>0</td>\n",
       "      <td>N</td>\n",
       "      <td>N</td>\n",
       "      <td>52000.0</td>\n",
       "      <td>0.0</td>\n",
       "      <td>52000.0</td>\n",
       "      <td>46800.0</td>\n",
       "      <td>1</td>\n",
       "    </tr>\n",
       "    <tr>\n",
       "      <th>2</th>\n",
       "      <td>BANGOR</td>\n",
       "      <td>ME</td>\n",
       "      <td>4401</td>\n",
       "      <td>BANGOR SAVINGS BANK</td>\n",
       "      <td>ME</td>\n",
       "      <td>323110</td>\n",
       "      <td>84</td>\n",
       "      <td>9</td>\n",
       "      <td>1.0</td>\n",
       "      <td>0</td>\n",
       "      <td>0</td>\n",
       "      <td>1</td>\n",
       "      <td>1</td>\n",
       "      <td>0</td>\n",
       "      <td>Y</td>\n",
       "      <td>150000.0</td>\n",
       "      <td>0.0</td>\n",
       "      <td>150000.0</td>\n",
       "      <td>127500.0</td>\n",
       "      <td>0</td>\n",
       "    </tr>\n",
       "  </tbody>\n",
       "</table>\n",
       "</div>"
      ],
      "text/plain": [
       "         City State    Zip                         Bank BankState   NAICS  \\\n",
       "0  Huntsville    AL  35811    BUSINESS LOAN CENTER, LLC        FL  621310   \n",
       "1  SCOTTSDALE    AZ  85254  WELLS FARGO BANK NATL ASSOC        CA       0   \n",
       "2      BANGOR    ME   4401          BANGOR SAVINGS BANK        ME  323110   \n",
       "\n",
       "   Term  NoEmp  NewExist  CreateJob  RetainedJob  FranchiseCode  UrbanRural  \\\n",
       "0    73      1       2.0          2            1              0           1   \n",
       "1    84      3       2.0          0            0              0           0   \n",
       "2    84      9       1.0          0            0              1           1   \n",
       "\n",
       "  RevLineCr LowDoc  DisbursementGross  BalanceGross    GrAppv  SBA_Appv  \\\n",
       "0         N      N            25000.0           0.0   25000.0   21250.0   \n",
       "1         N      N            52000.0           0.0   52000.0   46800.0   \n",
       "2         0      Y           150000.0           0.0  150000.0  127500.0   \n",
       "\n",
       "   Defaulted  \n",
       "0          1  \n",
       "1          1  \n",
       "2          0  "
      ]
     },
     "execution_count": 4,
     "metadata": {},
     "output_type": "execute_result"
    }
   ],
   "source": [
    "X_train.head(n=3)"
   ]
  },
  {
   "cell_type": "code",
   "execution_count": 5,
   "id": "2301a5ed",
   "metadata": {},
   "outputs": [
    {
     "name": "stdout",
     "output_type": "stream",
     "text": [
      "Train shape: (337186, 20)\n",
      "Test shape: (112396, 20)\n"
     ]
    }
   ],
   "source": [
    "print(\"Train shape:\", X_train.shape)\n",
    "print(\"Test shape:\", X_test.shape)"
   ]
  },
  {
   "cell_type": "code",
   "execution_count": 6,
   "id": "2f8dba68",
   "metadata": {},
   "outputs": [
    {
     "name": "stdout",
     "output_type": "stream",
     "text": [
      "<class 'pandas.core.frame.DataFrame'>\n",
      "RangeIndex: 337186 entries, 0 to 337185\n",
      "Data columns (total 20 columns):\n",
      " #   Column             Non-Null Count   Dtype  \n",
      "---  ------             --------------   -----  \n",
      " 0   City               337177 non-null  object \n",
      " 1   State              337180 non-null  object \n",
      " 2   Zip                337186 non-null  int64  \n",
      " 3   Bank               336587 non-null  object \n",
      " 4   BankState          336583 non-null  object \n",
      " 5   NAICS              337186 non-null  int64  \n",
      " 6   Term               337186 non-null  int64  \n",
      " 7   NoEmp              337186 non-null  int64  \n",
      " 8   NewExist           337140 non-null  float64\n",
      " 9   CreateJob          337186 non-null  int64  \n",
      " 10  RetainedJob        337186 non-null  int64  \n",
      " 11  FranchiseCode      337186 non-null  int64  \n",
      " 12  UrbanRural         337186 non-null  int64  \n",
      " 13  RevLineCr          335483 non-null  object \n",
      " 14  LowDoc             336198 non-null  object \n",
      " 15  DisbursementGross  337186 non-null  float64\n",
      " 16  BalanceGross       337186 non-null  float64\n",
      " 17  GrAppv             337186 non-null  float64\n",
      " 18  SBA_Appv           337186 non-null  float64\n",
      " 19  Defaulted          337186 non-null  int64  \n",
      "dtypes: float64(5), int64(9), object(6)\n",
      "memory usage: 51.5+ MB\n"
     ]
    }
   ],
   "source": [
    "X_train.info()"
   ]
  },
  {
   "cell_type": "markdown",
   "id": "7bb0bfa4",
   "metadata": {},
   "source": [
    "# Prepare Dataset\n",
    "\n",
    "Replace missing values for all columns for both X_train and X_test.\n",
    "Replace Na's with zero for numerical variables and with \"Missing\" for categorical\n",
    "\n",
    "Encode Categorical variables using target encoder."
   ]
  },
  {
   "cell_type": "code",
   "execution_count": 8,
   "id": "fe36a551",
   "metadata": {},
   "outputs": [
    {
     "data": {
      "text/html": [
       "<div>\n",
       "<style scoped>\n",
       "    .dataframe tbody tr th:only-of-type {\n",
       "        vertical-align: middle;\n",
       "    }\n",
       "\n",
       "    .dataframe tbody tr th {\n",
       "        vertical-align: top;\n",
       "    }\n",
       "\n",
       "    .dataframe thead th {\n",
       "        text-align: right;\n",
       "    }\n",
       "</style>\n",
       "<table border=\"1\" class=\"dataframe\">\n",
       "  <thead>\n",
       "    <tr style=\"text-align: right;\">\n",
       "      <th></th>\n",
       "      <th>City_te</th>\n",
       "      <th>State_te</th>\n",
       "      <th>Bank_te</th>\n",
       "      <th>BankState_te</th>\n",
       "      <th>RevLineCr_te</th>\n",
       "      <th>LowDoc_te</th>\n",
       "      <th>Zip_te</th>\n",
       "      <th>NAICS</th>\n",
       "      <th>Term</th>\n",
       "      <th>NoEmp</th>\n",
       "      <th>NewExist</th>\n",
       "      <th>CreateJob</th>\n",
       "      <th>RetainedJob</th>\n",
       "      <th>FranchiseCode</th>\n",
       "      <th>UrbanRural</th>\n",
       "      <th>DisbursementGross</th>\n",
       "      <th>BalanceGross</th>\n",
       "      <th>GrAppv</th>\n",
       "      <th>SBA_Appv</th>\n",
       "    </tr>\n",
       "  </thead>\n",
       "  <tbody>\n",
       "    <tr>\n",
       "      <th>0</th>\n",
       "      <td>0.380952</td>\n",
       "      <td>0.167744</td>\n",
       "      <td>0.308181</td>\n",
       "      <td>0.158105</td>\n",
       "      <td>0.146342</td>\n",
       "      <td>0.186457</td>\n",
       "      <td>0.347826</td>\n",
       "      <td>621310</td>\n",
       "      <td>73</td>\n",
       "      <td>1</td>\n",
       "      <td>2.0</td>\n",
       "      <td>2</td>\n",
       "      <td>1</td>\n",
       "      <td>0</td>\n",
       "      <td>1</td>\n",
       "      <td>25000.0</td>\n",
       "      <td>0.0</td>\n",
       "      <td>25000.0</td>\n",
       "      <td>21250.0</td>\n",
       "    </tr>\n",
       "    <tr>\n",
       "      <th>1</th>\n",
       "      <td>0.191919</td>\n",
       "      <td>0.200634</td>\n",
       "      <td>0.138341</td>\n",
       "      <td>0.221678</td>\n",
       "      <td>0.146342</td>\n",
       "      <td>0.186457</td>\n",
       "      <td>0.228916</td>\n",
       "      <td>0</td>\n",
       "      <td>84</td>\n",
       "      <td>3</td>\n",
       "      <td>2.0</td>\n",
       "      <td>0</td>\n",
       "      <td>0</td>\n",
       "      <td>0</td>\n",
       "      <td>0</td>\n",
       "      <td>52000.0</td>\n",
       "      <td>0.0</td>\n",
       "      <td>52000.0</td>\n",
       "      <td>46800.0</td>\n",
       "    </tr>\n",
       "    <tr>\n",
       "      <th>2</th>\n",
       "      <td>0.125984</td>\n",
       "      <td>0.096586</td>\n",
       "      <td>0.062500</td>\n",
       "      <td>0.076696</td>\n",
       "      <td>0.149252</td>\n",
       "      <td>0.090740</td>\n",
       "      <td>0.088889</td>\n",
       "      <td>323110</td>\n",
       "      <td>84</td>\n",
       "      <td>9</td>\n",
       "      <td>1.0</td>\n",
       "      <td>0</td>\n",
       "      <td>0</td>\n",
       "      <td>1</td>\n",
       "      <td>1</td>\n",
       "      <td>150000.0</td>\n",
       "      <td>0.0</td>\n",
       "      <td>150000.0</td>\n",
       "      <td>127500.0</td>\n",
       "    </tr>\n",
       "  </tbody>\n",
       "</table>\n",
       "</div>"
      ],
      "text/plain": [
       "    City_te  State_te   Bank_te  BankState_te  RevLineCr_te  LowDoc_te  \\\n",
       "0  0.380952  0.167744  0.308181      0.158105      0.146342   0.186457   \n",
       "1  0.191919  0.200634  0.138341      0.221678      0.146342   0.186457   \n",
       "2  0.125984  0.096586  0.062500      0.076696      0.149252   0.090740   \n",
       "\n",
       "     Zip_te   NAICS  Term  NoEmp  NewExist  CreateJob  RetainedJob  \\\n",
       "0  0.347826  621310    73      1       2.0          2            1   \n",
       "1  0.228916       0    84      3       2.0          0            0   \n",
       "2  0.088889  323110    84      9       1.0          0            0   \n",
       "\n",
       "   FranchiseCode  UrbanRural  DisbursementGross  BalanceGross    GrAppv  \\\n",
       "0              0           1            25000.0           0.0   25000.0   \n",
       "1              0           0            52000.0           0.0   52000.0   \n",
       "2              1           1           150000.0           0.0  150000.0   \n",
       "\n",
       "   SBA_Appv  \n",
       "0   21250.0  \n",
       "1   46800.0  \n",
       "2  127500.0  "
      ]
     },
     "execution_count": 8,
     "metadata": {},
     "output_type": "execute_result"
    }
   ],
   "source": [
    "X_tr.head(n=3)"
   ]
  },
  {
   "cell_type": "code",
   "execution_count": 9,
   "id": "cb9bbc16",
   "metadata": {},
   "outputs": [
    {
     "data": {
      "text/html": [
       "<div>\n",
       "<style scoped>\n",
       "    .dataframe tbody tr th:only-of-type {\n",
       "        vertical-align: middle;\n",
       "    }\n",
       "\n",
       "    .dataframe tbody tr th {\n",
       "        vertical-align: top;\n",
       "    }\n",
       "\n",
       "    .dataframe thead th {\n",
       "        text-align: right;\n",
       "    }\n",
       "</style>\n",
       "<table border=\"1\" class=\"dataframe\">\n",
       "  <thead>\n",
       "    <tr style=\"text-align: right;\">\n",
       "      <th></th>\n",
       "      <th>City_te</th>\n",
       "      <th>State_te</th>\n",
       "      <th>Bank_te</th>\n",
       "      <th>BankState_te</th>\n",
       "      <th>RevLineCr_te</th>\n",
       "      <th>LowDoc_te</th>\n",
       "      <th>Zip_te</th>\n",
       "      <th>NAICS</th>\n",
       "      <th>Term</th>\n",
       "      <th>NoEmp</th>\n",
       "      <th>NewExist</th>\n",
       "      <th>CreateJob</th>\n",
       "      <th>RetainedJob</th>\n",
       "      <th>FranchiseCode</th>\n",
       "      <th>UrbanRural</th>\n",
       "      <th>DisbursementGross</th>\n",
       "      <th>BalanceGross</th>\n",
       "      <th>GrAppv</th>\n",
       "      <th>SBA_Appv</th>\n",
       "    </tr>\n",
       "  </thead>\n",
       "  <tbody>\n",
       "    <tr>\n",
       "      <th>0</th>\n",
       "      <td>0.083335</td>\n",
       "      <td>0.224163</td>\n",
       "      <td>0.073593</td>\n",
       "      <td>0.222704</td>\n",
       "      <td>0.146342</td>\n",
       "      <td>0.090740</td>\n",
       "      <td>0.090913</td>\n",
       "      <td>0</td>\n",
       "      <td>84</td>\n",
       "      <td>1</td>\n",
       "      <td>2.0</td>\n",
       "      <td>0</td>\n",
       "      <td>0</td>\n",
       "      <td>1</td>\n",
       "      <td>0</td>\n",
       "      <td>42000.0</td>\n",
       "      <td>0.0</td>\n",
       "      <td>42000.0</td>\n",
       "      <td>33600.0</td>\n",
       "    </tr>\n",
       "    <tr>\n",
       "      <th>1</th>\n",
       "      <td>0.128531</td>\n",
       "      <td>0.149706</td>\n",
       "      <td>0.138341</td>\n",
       "      <td>0.175423</td>\n",
       "      <td>0.146342</td>\n",
       "      <td>0.186457</td>\n",
       "      <td>0.170732</td>\n",
       "      <td>0</td>\n",
       "      <td>84</td>\n",
       "      <td>7</td>\n",
       "      <td>1.0</td>\n",
       "      <td>0</td>\n",
       "      <td>0</td>\n",
       "      <td>1</td>\n",
       "      <td>0</td>\n",
       "      <td>15000.0</td>\n",
       "      <td>0.0</td>\n",
       "      <td>15000.0</td>\n",
       "      <td>13500.0</td>\n",
       "    </tr>\n",
       "    <tr>\n",
       "      <th>2</th>\n",
       "      <td>0.170213</td>\n",
       "      <td>0.224163</td>\n",
       "      <td>0.000000</td>\n",
       "      <td>0.222704</td>\n",
       "      <td>0.146342</td>\n",
       "      <td>0.186457</td>\n",
       "      <td>0.229167</td>\n",
       "      <td>0</td>\n",
       "      <td>240</td>\n",
       "      <td>19</td>\n",
       "      <td>1.0</td>\n",
       "      <td>15</td>\n",
       "      <td>0</td>\n",
       "      <td>1</td>\n",
       "      <td>0</td>\n",
       "      <td>497000.0</td>\n",
       "      <td>0.0</td>\n",
       "      <td>497000.0</td>\n",
       "      <td>497000.0</td>\n",
       "    </tr>\n",
       "  </tbody>\n",
       "</table>\n",
       "</div>"
      ],
      "text/plain": [
       "    City_te  State_te   Bank_te  BankState_te  RevLineCr_te  LowDoc_te  \\\n",
       "0  0.083335  0.224163  0.073593      0.222704      0.146342   0.090740   \n",
       "1  0.128531  0.149706  0.138341      0.175423      0.146342   0.186457   \n",
       "2  0.170213  0.224163  0.000000      0.222704      0.146342   0.186457   \n",
       "\n",
       "     Zip_te  NAICS  Term  NoEmp  NewExist  CreateJob  RetainedJob  \\\n",
       "0  0.090913      0    84      1       2.0          0            0   \n",
       "1  0.170732      0    84      7       1.0          0            0   \n",
       "2  0.229167      0   240     19       1.0         15            0   \n",
       "\n",
       "   FranchiseCode  UrbanRural  DisbursementGross  BalanceGross    GrAppv  \\\n",
       "0              1           0            42000.0           0.0   42000.0   \n",
       "1              1           0            15000.0           0.0   15000.0   \n",
       "2              1           0           497000.0           0.0  497000.0   \n",
       "\n",
       "   SBA_Appv  \n",
       "0   33600.0  \n",
       "1   13500.0  \n",
       "2  497000.0  "
      ]
     },
     "execution_count": 9,
     "metadata": {},
     "output_type": "execute_result"
    }
   ],
   "source": [
    "X_tst.head(n=3)"
   ]
  },
  {
   "cell_type": "code",
   "execution_count": 10,
   "id": "f57f71ed",
   "metadata": {},
   "outputs": [
    {
     "name": "stdout",
     "output_type": "stream",
     "text": [
      "Train shape: (337186, 19)\n",
      "Test shape: (112396, 19)\n"
     ]
    }
   ],
   "source": [
    "print(\"Train shape:\", X_tr.shape)\n",
    "print(\"Test shape:\", X_tst.shape)"
   ]
  },
  {
   "cell_type": "markdown",
   "id": "9525a1da",
   "metadata": {},
   "source": [
    "## Datasets for all questions\n",
    "\n",
    "For all questions, use X_tr and X_tst (after categorical variables encoding)."
   ]
  },
  {
   "cell_type": "markdown",
   "id": "bd38736a",
   "metadata": {},
   "source": [
    "## Question 1 - 2 points\n",
    "\n",
    "Train sklearn `GradientBoostingClassifier` with default parameters and `random_state=0`.\n",
    "Display:\n",
    "- AUC on Testing data\n",
    "- Accuracy on Testing data\n",
    "- Number of trees for the trained classifier"
   ]
  },
  {
   "cell_type": "code",
   "execution_count": 11,
   "id": "931bec64",
   "metadata": {},
   "outputs": [],
   "source": [
    "from  sklearn.ensemble import GradientBoostingClassifier\n",
    "from sklearn.metrics import classification_report\n",
    "\n",
    "gbc = GradientBoostingClassifier(random_state=0)"
   ]
  },
  {
   "cell_type": "code",
   "execution_count": 12,
   "id": "c662c914",
   "metadata": {},
   "outputs": [],
   "source": [
    "gbc1 = gbc.fit(X_tr,Y_tr)"
   ]
  },
  {
   "cell_type": "markdown",
   "id": "c0f07fc9",
   "metadata": {},
   "source": [
    "### Accuracy"
   ]
  },
  {
   "cell_type": "code",
   "execution_count": 13,
   "id": "52dd1215",
   "metadata": {
    "scrolled": false
   },
   "outputs": [
    {
     "name": "stdout",
     "output_type": "stream",
     "text": [
      "Accuracy on training set: 0.935\n",
      "\n",
      "Accuracy on testing set: 0.919\n",
      "\n",
      "              precision    recall  f1-score   support\n",
      "\n",
      "           0       0.93      0.97      0.95     92689\n",
      "           1       0.84      0.67      0.74     19707\n",
      "\n",
      "    accuracy                           0.92    112396\n",
      "   macro avg       0.89      0.82      0.85    112396\n",
      "weighted avg       0.92      0.92      0.92    112396\n",
      "\n"
     ]
    }
   ],
   "source": [
    "print(\"Accuracy on training set: {:.3f}\".format(gbc.score(X_tr, Y_tr)))\n",
    "print()\n",
    "print(\"Accuracy on testing set: {:.3f}\".format(gbc.score(X_tst, Y_tst)))\n",
    "print()\n",
    "\n",
    "print(classification_report(Y_tst, gbc.predict(X_tst)))"
   ]
  },
  {
   "cell_type": "markdown",
   "id": "7aa6b93d",
   "metadata": {},
   "source": [
    "### AUC score"
   ]
  },
  {
   "cell_type": "code",
   "execution_count": 14,
   "id": "3462cfb6",
   "metadata": {},
   "outputs": [
    {
     "name": "stdout",
     "output_type": "stream",
     "text": [
      "AUC score is: 0.9696718962677164\n",
      "\n",
      "AUC score is: 0.9505761225251513\n"
     ]
    }
   ],
   "source": [
    "from sklearn import metrics\n",
    "\n",
    "yscore_tr = gbc1.predict_proba(X_tr)[::,1]\n",
    "yscore = gbc1.predict_proba(X_tst)[::,1]\n",
    "\n",
    "auc_tr = metrics.roc_auc_score(Y_tr,yscore_tr)\n",
    "auc_tst = metrics.roc_auc_score(Y_tst, yscore)\n",
    "\n",
    "print(\"AUC score is:\", auc_tr)\n",
    "print()\n",
    "print(\"AUC score is:\", auc_tst)\n"
   ]
  },
  {
   "cell_type": "markdown",
   "id": "58f22278",
   "metadata": {},
   "source": [
    "### Number of Trees"
   ]
  },
  {
   "cell_type": "code",
   "execution_count": 15,
   "id": "1527ebf6",
   "metadata": {
    "scrolled": true
   },
   "outputs": [
    {
     "name": "stdout",
     "output_type": "stream",
     "text": [
      "No. of classes:  2\n",
      "Classes:  [0 1]\n",
      "No. of features:  19\n",
      "No. of Estimators/Trees:  100\n"
     ]
    }
   ],
   "source": [
    "print('No. of classes: ', gbc1.n_classes_)\n",
    "print('Classes: ', gbc1.classes_)\n",
    "print('No. of features: ', gbc1.n_features_in_)\n",
    "print('No. of Estimators/Trees: ', len(gbc1.estimators_))\n",
    "\n",
    "# No. of classes:  2\n",
    "# Classes:  [0 1]\n",
    "# No. of features:  19\n",
    "# No. of Estimators:  100"
   ]
  },
  {
   "cell_type": "markdown",
   "id": "1e07fd52",
   "metadata": {},
   "source": [
    "## Question 2 - 3 points\n",
    "\n",
    "Train sklearn `GradientBoostingClassifier` with following parameters:\n",
    "```\n",
    "n_estimators=1000, \n",
    "learning_rate=0.1,\n",
    "subsample=0.8,\n",
    "max_features=0.8,\n",
    "n_iter_no_change=5,\n",
    "max_depth=3, \n",
    "random_state=0\n",
    "```\n",
    "\n",
    "Display:\n",
    "- AUC on Testing data\n",
    "- Accuracy on Testing data\n",
    "- Number of trees for the trained classifier"
   ]
  },
  {
   "cell_type": "code",
   "execution_count": 16,
   "id": "41010967",
   "metadata": {},
   "outputs": [],
   "source": [
    "gbclf2 = GradientBoostingClassifier(n_estimators=1000, learning_rate=0.1,subsample=0.8,\n",
    "                                    max_features=0.8,n_iter_no_change=5,\n",
    "                                    max_depth=3, random_state=0)"
   ]
  },
  {
   "cell_type": "markdown",
   "id": "af9b3432",
   "metadata": {},
   "source": [
    "### AUC"
   ]
  },
  {
   "cell_type": "code",
   "execution_count": 17,
   "id": "e81ba407",
   "metadata": {},
   "outputs": [
    {
     "name": "stdout",
     "output_type": "stream",
     "text": [
      "AUC score for train set is: 0.9805974692862043\n",
      "\n",
      "AUC score for test set is: 0.9505761225251513\n"
     ]
    }
   ],
   "source": [
    "gbclf2 = gbclf2.fit(X_tr,Y_tr)\n",
    "\n",
    "yscore_tr2 = gbclf2.predict_proba(X_tr)[::,1]\n",
    "yscore_tst2 = gbc1.predict_proba(X_tst)[::,1]\n",
    "\n",
    "auc_tr2 = metrics.roc_auc_score(Y_tr, yscore_tr2)\n",
    "auc_tst2 = metrics.roc_auc_score(Y_tst, yscore_tst2)\n",
    "print(\"AUC score for train set is:\", auc_tr2)\n",
    "print()\n",
    "print(\"AUC score for test set is:\", auc_tst2)"
   ]
  },
  {
   "cell_type": "markdown",
   "id": "05bc100c",
   "metadata": {},
   "source": [
    "### Accuracy"
   ]
  },
  {
   "cell_type": "code",
   "execution_count": 18,
   "id": "485388c2",
   "metadata": {},
   "outputs": [
    {
     "name": "stdout",
     "output_type": "stream",
     "text": [
      "Accuracy on training set: 0.950\n",
      "\n",
      "Accuracy on testing set: 0.933\n",
      "\n",
      "              precision    recall  f1-score   support\n",
      "\n",
      "           0       0.95      0.97      0.96     92689\n",
      "           1       0.86      0.74      0.79     19707\n",
      "\n",
      "    accuracy                           0.93    112396\n",
      "   macro avg       0.90      0.86      0.88    112396\n",
      "weighted avg       0.93      0.93      0.93    112396\n",
      "\n"
     ]
    }
   ],
   "source": [
    "print(\"Accuracy on training set: {:.3f}\".format(gbclf2.score(X_tr, Y_tr)))\n",
    "print()\n",
    "print(\"Accuracy on testing set: {:.3f}\".format(gbclf2.score(X_tst, Y_tst)))\n",
    "print()\n",
    "\n",
    "print(classification_report(Y_tst, gbclf2.predict(X_tst)))"
   ]
  },
  {
   "cell_type": "markdown",
   "id": "06033d48",
   "metadata": {},
   "source": [
    "### Number of trees"
   ]
  },
  {
   "cell_type": "code",
   "execution_count": 19,
   "id": "8d8c5113",
   "metadata": {},
   "outputs": [
    {
     "data": {
      "text/plain": [
       "BaggingClassifier(base_estimator=DecisionTreeClassifier(random_state=0),\n",
       "                  oob_score=True)"
      ]
     },
     "execution_count": 19,
     "metadata": {},
     "output_type": "execute_result"
    }
   ],
   "source": [
    "from sklearn.tree import DecisionTreeClassifier\n",
    "from sklearn.ensemble import BaggingClassifier\n",
    "dt_cl = DecisionTreeClassifier(random_state=0)\n",
    "bag_cl = BaggingClassifier(dt_cl,oob_score=True)\n",
    "bag_cl.fit(X_tr, Y_tr)"
   ]
  },
  {
   "cell_type": "code",
   "execution_count": 20,
   "id": "f9929674",
   "metadata": {
    "scrolled": true
   },
   "outputs": [
    {
     "name": "stdout",
     "output_type": "stream",
     "text": [
      "No. of classes:  2\n",
      "Classes:  [0 1]\n",
      "No. of features:  19\n",
      "No. of Estimators/Trees:  437\n"
     ]
    }
   ],
   "source": [
    "print('No. of classes: ', gbclf2.n_classes_)\n",
    "print('Classes: ', gbclf2.classes_)\n",
    "print('No. of features: ', gbclf2.n_features_in_)\n",
    "print('No. of Estimators/Trees: ', len(gbclf2.estimators_))"
   ]
  },
  {
   "cell_type": "markdown",
   "id": "1dffac0f",
   "metadata": {},
   "source": [
    "## Question 3 - 10 points\n",
    "\n",
    "Use Grid search to train at least 16 `GradientBoostingClassifier`. Tune following parameters, set `random_state=0`:\n",
    "```\n",
    "n_estimators, \n",
    "learning_rate,\n",
    "subsample,\n",
    "max_features,\n",
    "n_iter_no_change,\n",
    "max_depth, \n",
    "```\n",
    "Your grid search should be performed using CV=3.\n",
    "To speed up training process, set `n_jobs` to number of available cores on your machine. For example, if you have 8 CPU/Core machine, set `n_jobs=4` or `n_jobs=6`\n",
    "\n",
    "For the best model (based on AUC) display:\n",
    "- Model parameters\n",
    "- AUC on Testing data\n",
    "- Accuracy on Testing data\n",
    "- Number of trees for the trained classifier\n",
    "\n",
    "**Important**: It will take long time to train models, you will be training at least 16x3=48 models. Test that your Grid search works with small subset of the data first.\n",
    "\n",
    "Once you have trained the Grid object, save it to the disk so that you can retrieve  it without going through re-train step. You can find example on how to save model in the Project 1 template.\n",
    "\n",
    "For the best model, display:\n",
    "- AUC on Testing data\n",
    "- Accuracy on Testing data\n",
    "- Number of trees for the trained classifier\n",
    "\n",
    "**Optional** questions (if you plan to practice data science, you should make every effort to answer them): \n",
    "- Why do you think number of trees for the best model is less than `n_estimators`?\n",
    "- Think about all parameters you are tuning using grid search.\n",
    "- How are those parameters help to reduce overfit? "
   ]
  },
  {
   "cell_type": "code",
   "execution_count": 21,
   "id": "e8387bd1",
   "metadata": {
    "scrolled": false
   },
   "outputs": [
    {
     "name": "stdout",
     "output_type": "stream",
     "text": [
      "n_estimators: 1500\n",
      "Best learning_rate: 0.1\n",
      "Best subsample: 1\n",
      "Best max_features: log2\n",
      "Best n_iter_no_change: None\n",
      "Best max_depth: 5\n"
     ]
    }
   ],
   "source": [
    "from sklearn.model_selection import GridSearchCV\n",
    "from  sklearn.ensemble import GradientBoostingClassifier\n",
    "from sklearn.metrics import accuracy_score\n",
    "from sklearn.metrics import precision_score\n",
    "from sklearn.metrics import recall_score\n",
    "from sklearn.metrics import make_scorer\n",
    "import pickle\n",
    "import cloudpickle\n",
    "#creating Scoring parameter: \n",
    "scoring = {'accuracy': make_scorer(accuracy_score),\n",
    "           'precision': make_scorer(precision_score),'recall':make_scorer(recall_score)}\n",
    "\n",
    "# GLM hyperparameters\n",
    "# gbc_param  = {\n",
    "#     \"n_estimators\":[500,1000,1500],\n",
    "#     \"learning_rate\": [0.01, 0.025, 0.05, 0.075, 0.1],\n",
    "#     \"subsample\":[1,.8],\n",
    "#     \"max_features\":[\"log2\",\"sqrt\"],\n",
    "#     \"n_iter_no_change\":[5,None],\n",
    "#     \"max_depth\":[3,5]}\n",
    "\n",
    "# # Train and validate a cartesian grid of GLMs\n",
    "# gbc_grid  = GridSearchCV(cv=3,n_jobs=6,estimator=GradientBoostingClassifier(random_state = 0),param_grid=gbc_param)\n",
    "\n",
    "# gbc_grid.fit(X_tr,Y_tr)\n",
    "with open(r\"gbc_grid\", \"rb\") as gbc_grid_file:\n",
    "    gbc_grid = cloudpickle.load(gbc_grid_file)\n",
    "    \n",
    "print('n_estimators:', gbc_grid.best_estimator_.get_params()['n_estimators'])\n",
    "print('Best learning_rate:', gbc_grid.best_estimator_.get_params()['learning_rate'])\n",
    "print('Best subsample:', gbc_grid.best_estimator_.get_params()['subsample'])\n",
    "print('Best max_features:', gbc_grid.best_estimator_.get_params()['max_features'])\n",
    "print('Best n_iter_no_change:', gbc_grid.best_estimator_.get_params()['n_iter_no_change'])\n",
    "print('Best max_depth:', gbc_grid.best_estimator_.get_params()['max_depth'])\n",
    "\n",
    "# n_estimators: 1500\n",
    "# Best learning_rate: 0.1\n",
    "# Best subsample: 1\n",
    "# Best max_features: log2\n",
    "# Best n_iter_no_change: None\n",
    "# Best max_depth: 5"
   ]
  },
  {
   "cell_type": "code",
   "execution_count": 22,
   "id": "ec311539",
   "metadata": {
    "scrolled": true
   },
   "outputs": [
    {
     "data": {
      "text/plain": [
       "0.9403804405850742"
      ]
     },
     "execution_count": 22,
     "metadata": {},
     "output_type": "execute_result"
    }
   ],
   "source": [
    "import pandas as pd\n",
    "from sklearn.ensemble import GradientBoostingClassifier\n",
    "# GLM hyperparameters\n",
    "\n",
    "gbc  = GradientBoostingClassifier(n_estimators=1500,learning_rate = 0.1,subsample= 1,max_features= 'log2',\n",
    "                                  n_iter_no_change= None,max_depth=5)\n",
    "\n",
    "gbc.fit(X_tr, Y_tr)\n",
    "gbc.score(X_tst, Y_tst)"
   ]
  },
  {
   "cell_type": "markdown",
   "id": "0c9fe400",
   "metadata": {},
   "source": [
    "### Saving Models"
   ]
  },
  {
   "cell_type": "code",
   "execution_count": 23,
   "id": "b76cb042",
   "metadata": {},
   "outputs": [],
   "source": [
    "import pickle\n",
    "import cloudpickle\n",
    "\n",
    "with open('gbc', 'wb') as gbc_file:\n",
    "    cloudpickle.dump(gbc, gbc_file)"
   ]
  },
  {
   "cell_type": "code",
   "execution_count": 24,
   "id": "b3dc7db0",
   "metadata": {},
   "outputs": [],
   "source": [
    "import pickle\n",
    "import cloudpickle\n",
    "\n",
    "with open('gbc_grid', 'wb') as gbc_grid_file:\n",
    "    cloudpickle.dump(gbc_grid, gbc_grid_file)"
   ]
  },
  {
   "cell_type": "markdown",
   "id": "55984d15",
   "metadata": {},
   "source": [
    "### Classification Report"
   ]
  },
  {
   "cell_type": "code",
   "execution_count": 25,
   "id": "88948240",
   "metadata": {},
   "outputs": [
    {
     "name": "stdout",
     "output_type": "stream",
     "text": [
      "              precision    recall  f1-score   support\n",
      "\n",
      "           0       0.95      0.98      0.96     92689\n",
      "           1       0.87      0.77      0.82     19707\n",
      "\n",
      "    accuracy                           0.94    112396\n",
      "   macro avg       0.91      0.87      0.89    112396\n",
      "weighted avg       0.94      0.94      0.94    112396\n",
      "\n"
     ]
    }
   ],
   "source": [
    "\n",
    "GBC_tst_pred = gbc.predict(X_tst)\n",
    "\n",
    "print(classification_report(Y_tst, gbc.predict(X_tst)))"
   ]
  },
  {
   "cell_type": "markdown",
   "id": "eb129062",
   "metadata": {},
   "source": [
    "### AUC "
   ]
  },
  {
   "cell_type": "code",
   "execution_count": 26,
   "id": "c108a534",
   "metadata": {},
   "outputs": [],
   "source": [
    "\n",
    "yscore_tr3 = gbc.predict_proba(X_tr)[::,1]\n",
    "yscore_tst3 = gbc.predict_proba(X_tst)[::,1]\n",
    "\n",
    "auc_tr2 = metrics.roc_auc_score(Y_tr, yscore_tr3)\n",
    "auc_tst2 = metrics.roc_auc_score(Y_tst, yscore_tst3)"
   ]
  },
  {
   "cell_type": "markdown",
   "id": "15d46508",
   "metadata": {},
   "source": [
    "### Accuracy"
   ]
  },
  {
   "cell_type": "code",
   "execution_count": 27,
   "id": "8daf34d3",
   "metadata": {
    "scrolled": false
   },
   "outputs": [
    {
     "name": "stdout",
     "output_type": "stream",
     "text": [
      "Accuracy on training set: 0.969\n",
      "\n",
      "Accuracy on testing set: 0.940\n",
      "\n"
     ]
    }
   ],
   "source": [
    "print(\"Accuracy on training set: {:.3f}\".format(gbc.score(X_tr, Y_tr)))\n",
    "print()\n",
    "print(\"Accuracy on testing set: {:.3f}\".format(gbc.score(X_tst, Y_tst)))\n",
    "print()"
   ]
  },
  {
   "cell_type": "markdown",
   "id": "3b5b6a52",
   "metadata": {},
   "source": [
    "### Number of trees"
   ]
  },
  {
   "cell_type": "code",
   "execution_count": 28,
   "id": "c39ec68d",
   "metadata": {},
   "outputs": [
    {
     "name": "stdout",
     "output_type": "stream",
     "text": [
      "No. of classes:  2\n",
      "Classes:  [0 1]\n",
      "No. of features:  19\n",
      "No. of Estimators/Trees:  1500\n"
     ]
    }
   ],
   "source": [
    "print('No. of classes: ', gbc.n_classes_)\n",
    "print('Classes: ', gbc.classes_)\n",
    "print('No. of features: ', gbc.n_features_in_)\n",
    "print('No. of Estimators/Trees: ', len(gbc.estimators_))"
   ]
  },
  {
   "cell_type": "markdown",
   "id": "2e1c69b5",
   "metadata": {},
   "source": [
    "## Question 4 - 5 points\n",
    "\n",
    "Train Stacked Ensemble model by utilizing `from sklearn.ensemble import StackingClassifier`.\n",
    "\n",
    "Good guide on how to train Stacked ensemble model can be found here: https://machinelearningmastery.com/stacking-ensemble-machine-learning-with-python/\n",
    "\n",
    "\n",
    "Stacked Ensemble is a technique to build Meta Learner (model). The Meta learner uses out-of-fold predictions of level-0 models (at least 2) to train level-1 model(meta learner). Meta learner is trained on the out-of-fold predictions done by the level-0 model in order to avoid overfitting.  \n",
    "\n",
    "For example, if level-0 model was trained using cv=3 it means there are 3 level-0 sub-models each trained on the 2/3 of the data. Therefore the hold-out 1/3 part of the training data was not used by the model for training, and predictions on the out of fold parts of the dataset can be used by Meta Learner. \n",
    "\n",
    "Choose two models for the level-0 models:\n",
    "- Best model from the Question 3\n",
    "- Worst model from the question 3\n",
    "\n",
    "You would only need model parameters, since sklearn `StackingClassifier` will retrain the the models.\n",
    "\n",
    "Train `StackingClassifier` and produce:\n",
    "- AUC on Testing data\n",
    "- Accuracy on Testing data\n",
    "\n",
    "\n",
    "*Hint*: to find best/worst model parameters for your `grid_search` object you can use below code. You would need to change `grid_search` to the variable name that holds your `GridSearchCV` object. \n",
    "```\n",
    "import numpy as np\n",
    "\n",
    "best_model_idx = np.argmax(grid_search.cv_results_['mean_test_score'])\n",
    "worst_model_idx = np.argmin(grid_search.cv_results_['mean_test_score']) \n",
    "print(\"Index of worst model:\",worst_model_idx)\n",
    "print(\"Index of best model:\",best_model_idx)\n",
    "\n",
    "print(\"Best model params:\")\n",
    "print(grid_search.cv_results_['params'][best_model_idx])\n",
    "print(\"\")\n",
    "print(\"Worst model params:\")\n",
    "print(grid_search.cv_results_['params'][worst_model_idx])\n",
    "```"
   ]
  },
  {
   "cell_type": "code",
   "execution_count": 29,
   "id": "8929dc8d",
   "metadata": {
    "scrolled": true
   },
   "outputs": [
    {
     "name": "stdout",
     "output_type": "stream",
     "text": [
      "Index of worst model: 3\n",
      "Index of best model: 226\n",
      "Best model params:\n",
      "{'learning_rate': 0.1, 'max_depth': 5, 'max_features': 'log2', 'n_estimators': 1500, 'n_iter_no_change': None, 'subsample': 1}\n",
      "\n",
      "Worst model params:\n",
      "{'learning_rate': 0.01, 'max_depth': 3, 'max_features': 'log2', 'n_estimators': 500, 'n_iter_no_change': None, 'subsample': 0.8}\n"
     ]
    }
   ],
   "source": [
    "from sklearn.datasets import make_classification\n",
    "import numpy as np\n",
    "\n",
    "best_model_idx = np.argmax(gbc_grid.cv_results_['mean_test_score'])\n",
    "worst_model_idx = np.argmin(gbc_grid.cv_results_['mean_test_score']) \n",
    "print(\"Index of worst model:\",worst_model_idx)\n",
    "print(\"Index of best model:\",best_model_idx)\n",
    "\n",
    "print(\"Best model params:\")\n",
    "print(gbc_grid.cv_results_['params'][best_model_idx])\n",
    "print(\"\")\n",
    "print(\"Worst model params:\")\n",
    "print(gbc_grid.cv_results_['params'][worst_model_idx])"
   ]
  },
  {
   "cell_type": "markdown",
   "id": "136c7fe4",
   "metadata": {},
   "source": [
    "## Results\n",
    "\n",
    "### Index of worst model: 3\n",
    "### Index of best model: 226\n",
    "### Best model params:\n",
    "### {'learning_rate': 0.1, 'max_depth': 5, 'max_features': 'log2', 'n_estimators': 1500, 'n_iter_no_change': None, 'subsample': 1}\n",
    "\n",
    "### Worst model params:\n",
    "### {'learning_rate': 0.01, 'max_depth': 3, 'max_features': 'log2', 'n_estimators': 500, 'n_iter_no_change': None, 'subsample': 0.8}"
   ]
  },
  {
   "cell_type": "markdown",
   "id": "ed634a82",
   "metadata": {},
   "source": [
    " ## Both Best and Worst Models"
   ]
  },
  {
   "cell_type": "code",
   "execution_count": 31,
   "id": "c641641e",
   "metadata": {},
   "outputs": [],
   "source": [
    "from sklearn.ensemble import GradientBoostingClassifier\n",
    "\n",
    "bad_gbc = GradientBoostingClassifier(n_estimators=500,learning_rate = 0.01,subsample= .8,max_features= 'log2',\n",
    "                                  n_iter_no_change= None,max_depth=3)\n",
    "\n",
    "good_gbc = GradientBoostingClassifier(n_estimators=1500,learning_rate = 0.1,subsample= 1,max_features= 'log2',\n",
    "                                  n_iter_no_change= None,max_depth=5)"
   ]
  },
  {
   "cell_type": "code",
   "execution_count": 32,
   "id": "0ed5fca0",
   "metadata": {
    "scrolled": true
   },
   "outputs": [
    {
     "name": "stdout",
     "output_type": "stream",
     "text": [
      "0.8957881063383039\n",
      "0.9405138972917185\n",
      "The Bad GBC Classification Report is:               precision    recall  f1-score   support\n",
      "\n",
      "           0       0.91      0.97      0.94     92689\n",
      "           1       0.80      0.54      0.65     19707\n",
      "\n",
      "    accuracy                           0.90    112396\n",
      "   macro avg       0.85      0.76      0.79    112396\n",
      "weighted avg       0.89      0.90      0.89    112396\n",
      "\n",
      "\n",
      "The Good GBC Classification Report is:               precision    recall  f1-score   support\n",
      "\n",
      "           0       0.95      0.98      0.96     92689\n",
      "           1       0.87      0.78      0.82     19707\n",
      "\n",
      "    accuracy                           0.94    112396\n",
      "   macro avg       0.91      0.88      0.89    112396\n",
      "weighted avg       0.94      0.94      0.94    112396\n",
      "\n"
     ]
    }
   ],
   "source": [
    "bad_gbc.fit(X_tr, Y_tr)\n",
    "print(bad_gbc.score(X_tst, Y_tst))\n",
    "\n",
    "\n",
    "good_gbc.fit(X_tr, Y_tr)\n",
    "print(good_gbc.score(X_tst, Y_tst))\n",
    "\n",
    "print('The Bad GBC Classification Report is:',classification_report(Y_tst, bad_gbc.predict(X_tst)))\n",
    "print()\n",
    "print('The Good GBC Classification Report is:',classification_report(Y_tst, good_gbc.predict(X_tst)))\n"
   ]
  },
  {
   "cell_type": "markdown",
   "id": "c81f9503",
   "metadata": {},
   "source": [
    "## Stack model"
   ]
  },
  {
   "cell_type": "code",
   "execution_count": 33,
   "id": "5746e841",
   "metadata": {},
   "outputs": [],
   "source": [
    "from sklearn.ensemble import StackingClassifier\n",
    "estimators = [ ('bad_gbc', bad_gbc), ('good_gbc', good_gbc)]\n",
    "\n",
    "stack = StackingClassifier(estimators=estimators, final_estimator=GradientBoostingClassifier())\n",
    "\n"
   ]
  },
  {
   "cell_type": "code",
   "execution_count": 34,
   "id": "8007fb0c",
   "metadata": {
    "scrolled": true
   },
   "outputs": [
    {
     "data": {
      "text/plain": [
       "StackingClassifier(estimators=[('bad_gbc',\n",
       "                                GradientBoostingClassifier(learning_rate=0.01,\n",
       "                                                           max_features='log2',\n",
       "                                                           n_estimators=500,\n",
       "                                                           subsample=0.8)),\n",
       "                               ('good_gbc',\n",
       "                                GradientBoostingClassifier(max_depth=5,\n",
       "                                                           max_features='log2',\n",
       "                                                           n_estimators=1500,\n",
       "                                                           subsample=1))],\n",
       "                   final_estimator=GradientBoostingClassifier())"
      ]
     },
     "execution_count": 34,
     "metadata": {},
     "output_type": "execute_result"
    }
   ],
   "source": [
    "stack"
   ]
  },
  {
   "cell_type": "code",
   "execution_count": 35,
   "id": "38f1b643",
   "metadata": {},
   "outputs": [],
   "source": [
    "stack.fit(X_tr, Y_tr)\n",
    "\n",
    "pred = stack.predict(X_tst)"
   ]
  },
  {
   "cell_type": "code",
   "execution_count": 36,
   "id": "759af839",
   "metadata": {},
   "outputs": [
    {
     "data": {
      "text/plain": [
       "array([0, 0, 0, ..., 1, 0, 0], dtype=int64)"
      ]
     },
     "execution_count": 36,
     "metadata": {},
     "output_type": "execute_result"
    }
   ],
   "source": [
    "pred"
   ]
  },
  {
   "cell_type": "code",
   "execution_count": 37,
   "id": "93365b2d",
   "metadata": {
    "scrolled": true
   },
   "outputs": [
    {
     "name": "stdout",
     "output_type": "stream",
     "text": [
      "The Stack Classification Report is:               precision    recall  f1-score   support\n",
      "\n",
      "           0       0.96      0.97      0.96     92689\n",
      "           1       0.86      0.79      0.82     19707\n",
      "\n",
      "    accuracy                           0.94    112396\n",
      "   macro avg       0.91      0.88      0.89    112396\n",
      "weighted avg       0.94      0.94      0.94    112396\n",
      "\n"
     ]
    }
   ],
   "source": [
    "print('The Stack Classification Report is:',classification_report(Y_tst, pred))\n"
   ]
  },
  {
   "cell_type": "code",
   "execution_count": 38,
   "id": "6274cd1c",
   "metadata": {},
   "outputs": [
    {
     "name": "stdout",
     "output_type": "stream",
     "text": [
      "AUC score for train set is: 0.9913303008325828\n"
     ]
    }
   ],
   "source": [
    "yscore_stack = stack.predict_proba(X_tst)[::,1]\n",
    "\n",
    "auc_tr3 = metrics.roc_auc_score(Y_tst, yscore_stack)\n",
    "print(\"AUC score for train set is:\", auc_tr2)"
   ]
  }
 ],
 "metadata": {
  "kernelspec": {
   "display_name": "Python 3 (ipykernel)",
   "language": "python",
   "name": "python3"
  },
  "language_info": {
   "codemirror_mode": {
    "name": "ipython",
    "version": 3
   },
   "file_extension": ".py",
   "mimetype": "text/x-python",
   "name": "python",
   "nbconvert_exporter": "python",
   "pygments_lexer": "ipython3",
   "version": "3.9.7"
  }
 },
 "nbformat": 4,
 "nbformat_minor": 5
}
